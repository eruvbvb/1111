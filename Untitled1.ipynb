{
 "cells": [
  {
   "cell_type": "code",
   "execution_count": 1,
   "id": "76cee9c2",
   "metadata": {},
   "outputs": [
    {
     "name": "stdout",
     "output_type": "stream",
     "text": [
      "导数值: 0.25\n"
     ]
    }
   ],
   "source": [
    "import torch\n",
    "def sigmoid(x):\n",
    "    return 1 / (1 + torch.exp(-x))\n",
    "def sigmoid_derivative(x):\n",
    "    s = sigmoid(x)\n",
    "    return s * (1 - s)\n",
    "x = torch.tensor([0.0], requires_grad=True)\n",
    "y_derivative = sigmoid_derivative(x)\n",
    "print(f\"导数值: {y_derivative.item()}\")"
   ]
  },
  {
   "cell_type": "code",
   "execution_count": 2,
   "id": "8dc55966",
   "metadata": {},
   "outputs": [
    {
     "name": "stdout",
     "output_type": "stream",
     "text": [
      "x1梯度: 0.0\n",
      "x2梯度: 0.002896492835134268\n"
     ]
    }
   ],
   "source": [
    "import torch\n",
    "\n",
    "# 定义sigmoid函数\n",
    "def sigmoid(x):\n",
    "    return 1 / (1 + torch.exp(-x))\n",
    "\n",
    "def compute_graph(x1, x2):\n",
    "    term1 = x1**2 + 2*x2 + 1\n",
    "    sigmoid_term1 = sigmoid(term1)\n",
    "    term2 = x1**2 + 2*x2 + 1\n",
    "    sigmoid_term2 = sigmoid(term2)\n",
    "    \n",
    "    # 计算最终输出\n",
    "    y = sigmoid(3 * sigmoid_term1 + sigmoid_term2 + 1)\n",
    "    return y\n",
    "\n",
    "# 创建x1和x2的张量，并设置requires_grad=True以追踪梯度\n",
    "x1 = torch.tensor([0.0], requires_grad=True)\n",
    "x2 = torch.tensor([1.0], requires_grad=True)\n",
    "\n",
    "# 计算y的值\n",
    "y = compute_graph(x1, x2)\n",
    "\n",
    "# 计算梯度\n",
    "y.backward(torch.tensor([1.0]))\n",
    "\n",
    "# 打印梯度\n",
    "print(f\"x1梯度: {x1.grad.item()}\")\n",
    "print(f\"x2梯度: {x2.grad.item()}\")\n"
   ]
  },
  {
   "cell_type": "code",
   "execution_count": null,
   "id": "fba3e0cd",
   "metadata": {},
   "outputs": [],
   "source": []
  }
 ],
 "metadata": {
  "kernelspec": {
   "display_name": "Python 3 (ipykernel)",
   "language": "python",
   "name": "python3"
  },
  "language_info": {
   "codemirror_mode": {
    "name": "ipython",
    "version": 3
   },
   "file_extension": ".py",
   "mimetype": "text/x-python",
   "name": "python",
   "nbconvert_exporter": "python",
   "pygments_lexer": "ipython3",
   "version": "3.9.7"
  }
 },
 "nbformat": 4,
 "nbformat_minor": 5
}
